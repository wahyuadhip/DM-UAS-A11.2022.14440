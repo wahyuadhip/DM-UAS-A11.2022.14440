{
  "nbformat": 4,
  "nbformat_minor": 0,
  "metadata": {
    "colab": {
      "provenance": []
    },
    "kernelspec": {
      "name": "python3",
      "display_name": "Python 3"
    },
    "language_info": {
      "name": "python"
    }
  },
  "cells": [
    {
      "cell_type": "code",
      "execution_count": 7,
      "metadata": {
        "id": "130Tg5KAxujP"
      },
      "outputs": [],
      "source": [
        "# Colab: Data Mining untuk Analisis Kualitas Anggur\n",
        "\n",
        "# Langkah 1: Mengimpor pustaka yang dibutuhkan\n",
        "import pandas as pd\n",
        "import numpy as np\n",
        "import matplotlib.pyplot as plt\n",
        "import seaborn as sns\n",
        "from sklearn.model_selection import train_test_split\n",
        "from sklearn.ensemble import RandomForestClassifier\n",
        "from sklearn.tree import DecisionTreeClassifier\n",
        "from sklearn.neighbors import KNeighborsClassifier\n",
        "from sklearn.metrics import classification_report, confusion_matrix"
      ]
    },
    {
      "cell_type": "markdown",
      "source": [
        "# 1. **Judul / Topik Project dan Identitas Lengkap teks tebal**\n",
        "\n",
        "judul : prediksi kualitas antara wine putih dan merah\n",
        "\n",
        "Nama : Wahyu Adhi Prasetyo NIM : A11.2022.14440"
      ],
      "metadata": {
        "id": "yElC-ZYXXs5h"
      }
    },
    {
      "cell_type": "markdown",
      "source": [
        "# 2. **Ringkasan dan Permasalahan Project**\n",
        "Ringkasan : berisi data tentang kualitas wine merah dan putih berdasarkan parameter kimia.\n",
        "\n",
        "Permasalahan :\n",
        "\n",
        "Prediksi kualitas wine berdasarkan parameter kimia.\n",
        "\n",
        "Tujuan :\n",
        "\n",
        "Membangun model prediktif untuk klasifikasi kualitas wine."
      ],
      "metadata": {
        "id": "6_fkUN_SYF_4"
      }
    },
    {
      "cell_type": "markdown",
      "source": [
        "# **3. Visualisasi Alur Penyelesaian**\n",
        "1. Memuat dataset anggur merah dan putih\n",
        "- Menggunakan delimiter yang sesuai\n",
        "- Menambahkan kolom 'type' untuk membedakan jenis anggur\n",
        "- Menggabungkan dataset menjadi satu dataframe\n",
        "2. Eksplorasi Data Analis\n",
        "- Visualisasi Distribusi Kualitas"
      ],
      "metadata": {
        "id": "s7OP6pEaY6h4"
      }
    },
    {
      "cell_type": "code",
      "source": [
        "#langkah 2 Memuat dataset anggur merah dan putih\n",
        "from google.colab import files\n",
        "\n",
        "uploaded = files.upload()"
      ],
      "metadata": {
        "colab": {
          "base_uri": "https://localhost:8080/",
          "height": 108
        },
        "id": "z4A7Ln3E33DA",
        "outputId": "cbb56f7a-0f9f-428c-a7fc-06c3589bf4b2"
      },
      "execution_count": 9,
      "outputs": [
        {
          "output_type": "display_data",
          "data": {
            "text/plain": [
              "<IPython.core.display.HTML object>"
            ],
            "text/html": [
              "\n",
              "     <input type=\"file\" id=\"files-8d6c6f18-9de3-4d6a-a526-c6c61bfaa9e1\" name=\"files[]\" multiple disabled\n",
              "        style=\"border:none\" />\n",
              "     <output id=\"result-8d6c6f18-9de3-4d6a-a526-c6c61bfaa9e1\">\n",
              "      Upload widget is only available when the cell has been executed in the\n",
              "      current browser session. Please rerun this cell to enable.\n",
              "      </output>\n",
              "      <script>// Copyright 2017 Google LLC\n",
              "//\n",
              "// Licensed under the Apache License, Version 2.0 (the \"License\");\n",
              "// you may not use this file except in compliance with the License.\n",
              "// You may obtain a copy of the License at\n",
              "//\n",
              "//      http://www.apache.org/licenses/LICENSE-2.0\n",
              "//\n",
              "// Unless required by applicable law or agreed to in writing, software\n",
              "// distributed under the License is distributed on an \"AS IS\" BASIS,\n",
              "// WITHOUT WARRANTIES OR CONDITIONS OF ANY KIND, either express or implied.\n",
              "// See the License for the specific language governing permissions and\n",
              "// limitations under the License.\n",
              "\n",
              "/**\n",
              " * @fileoverview Helpers for google.colab Python module.\n",
              " */\n",
              "(function(scope) {\n",
              "function span(text, styleAttributes = {}) {\n",
              "  const element = document.createElement('span');\n",
              "  element.textContent = text;\n",
              "  for (const key of Object.keys(styleAttributes)) {\n",
              "    element.style[key] = styleAttributes[key];\n",
              "  }\n",
              "  return element;\n",
              "}\n",
              "\n",
              "// Max number of bytes which will be uploaded at a time.\n",
              "const MAX_PAYLOAD_SIZE = 100 * 1024;\n",
              "\n",
              "function _uploadFiles(inputId, outputId) {\n",
              "  const steps = uploadFilesStep(inputId, outputId);\n",
              "  const outputElement = document.getElementById(outputId);\n",
              "  // Cache steps on the outputElement to make it available for the next call\n",
              "  // to uploadFilesContinue from Python.\n",
              "  outputElement.steps = steps;\n",
              "\n",
              "  return _uploadFilesContinue(outputId);\n",
              "}\n",
              "\n",
              "// This is roughly an async generator (not supported in the browser yet),\n",
              "// where there are multiple asynchronous steps and the Python side is going\n",
              "// to poll for completion of each step.\n",
              "// This uses a Promise to block the python side on completion of each step,\n",
              "// then passes the result of the previous step as the input to the next step.\n",
              "function _uploadFilesContinue(outputId) {\n",
              "  const outputElement = document.getElementById(outputId);\n",
              "  const steps = outputElement.steps;\n",
              "\n",
              "  const next = steps.next(outputElement.lastPromiseValue);\n",
              "  return Promise.resolve(next.value.promise).then((value) => {\n",
              "    // Cache the last promise value to make it available to the next\n",
              "    // step of the generator.\n",
              "    outputElement.lastPromiseValue = value;\n",
              "    return next.value.response;\n",
              "  });\n",
              "}\n",
              "\n",
              "/**\n",
              " * Generator function which is called between each async step of the upload\n",
              " * process.\n",
              " * @param {string} inputId Element ID of the input file picker element.\n",
              " * @param {string} outputId Element ID of the output display.\n",
              " * @return {!Iterable<!Object>} Iterable of next steps.\n",
              " */\n",
              "function* uploadFilesStep(inputId, outputId) {\n",
              "  const inputElement = document.getElementById(inputId);\n",
              "  inputElement.disabled = false;\n",
              "\n",
              "  const outputElement = document.getElementById(outputId);\n",
              "  outputElement.innerHTML = '';\n",
              "\n",
              "  const pickedPromise = new Promise((resolve) => {\n",
              "    inputElement.addEventListener('change', (e) => {\n",
              "      resolve(e.target.files);\n",
              "    });\n",
              "  });\n",
              "\n",
              "  const cancel = document.createElement('button');\n",
              "  inputElement.parentElement.appendChild(cancel);\n",
              "  cancel.textContent = 'Cancel upload';\n",
              "  const cancelPromise = new Promise((resolve) => {\n",
              "    cancel.onclick = () => {\n",
              "      resolve(null);\n",
              "    };\n",
              "  });\n",
              "\n",
              "  // Wait for the user to pick the files.\n",
              "  const files = yield {\n",
              "    promise: Promise.race([pickedPromise, cancelPromise]),\n",
              "    response: {\n",
              "      action: 'starting',\n",
              "    }\n",
              "  };\n",
              "\n",
              "  cancel.remove();\n",
              "\n",
              "  // Disable the input element since further picks are not allowed.\n",
              "  inputElement.disabled = true;\n",
              "\n",
              "  if (!files) {\n",
              "    return {\n",
              "      response: {\n",
              "        action: 'complete',\n",
              "      }\n",
              "    };\n",
              "  }\n",
              "\n",
              "  for (const file of files) {\n",
              "    const li = document.createElement('li');\n",
              "    li.append(span(file.name, {fontWeight: 'bold'}));\n",
              "    li.append(span(\n",
              "        `(${file.type || 'n/a'}) - ${file.size} bytes, ` +\n",
              "        `last modified: ${\n",
              "            file.lastModifiedDate ? file.lastModifiedDate.toLocaleDateString() :\n",
              "                                    'n/a'} - `));\n",
              "    const percent = span('0% done');\n",
              "    li.appendChild(percent);\n",
              "\n",
              "    outputElement.appendChild(li);\n",
              "\n",
              "    const fileDataPromise = new Promise((resolve) => {\n",
              "      const reader = new FileReader();\n",
              "      reader.onload = (e) => {\n",
              "        resolve(e.target.result);\n",
              "      };\n",
              "      reader.readAsArrayBuffer(file);\n",
              "    });\n",
              "    // Wait for the data to be ready.\n",
              "    let fileData = yield {\n",
              "      promise: fileDataPromise,\n",
              "      response: {\n",
              "        action: 'continue',\n",
              "      }\n",
              "    };\n",
              "\n",
              "    // Use a chunked sending to avoid message size limits. See b/62115660.\n",
              "    let position = 0;\n",
              "    do {\n",
              "      const length = Math.min(fileData.byteLength - position, MAX_PAYLOAD_SIZE);\n",
              "      const chunk = new Uint8Array(fileData, position, length);\n",
              "      position += length;\n",
              "\n",
              "      const base64 = btoa(String.fromCharCode.apply(null, chunk));\n",
              "      yield {\n",
              "        response: {\n",
              "          action: 'append',\n",
              "          file: file.name,\n",
              "          data: base64,\n",
              "        },\n",
              "      };\n",
              "\n",
              "      let percentDone = fileData.byteLength === 0 ?\n",
              "          100 :\n",
              "          Math.round((position / fileData.byteLength) * 100);\n",
              "      percent.textContent = `${percentDone}% done`;\n",
              "\n",
              "    } while (position < fileData.byteLength);\n",
              "  }\n",
              "\n",
              "  // All done.\n",
              "  yield {\n",
              "    response: {\n",
              "      action: 'complete',\n",
              "    }\n",
              "  };\n",
              "}\n",
              "\n",
              "scope.google = scope.google || {};\n",
              "scope.google.colab = scope.google.colab || {};\n",
              "scope.google.colab._files = {\n",
              "  _uploadFiles,\n",
              "  _uploadFilesContinue,\n",
              "};\n",
              "})(self);\n",
              "</script> "
            ]
          },
          "metadata": {}
        },
        {
          "output_type": "stream",
          "name": "stdout",
          "text": [
            "Saving winequality-red.csv to winequality-red (2).csv\n",
            "Saving winequality-white.csv to winequality-white (1).csv\n"
          ]
        }
      ]
    },
    {
      "cell_type": "code",
      "source": [
        "# Menggunakan delimiter yang sesuai (;)\n",
        "red_wine = pd.read_csv(\"winequality-red.csv\", sep=\";\")\n",
        "white_wine = pd.read_csv(\"winequality-white.csv\", sep=\";\")"
      ],
      "metadata": {
        "id": "ntTogsyD1M2-"
      },
      "execution_count": 10,
      "outputs": []
    },
    {
      "cell_type": "code",
      "source": [
        "# Menambahkan kolom 'type' untuk membedakan jenis anggur\n",
        "red_wine['type'] = 'red'\n",
        "white_wine['type'] = 'white'"
      ],
      "metadata": {
        "id": "DRxPtUDd5AzL"
      },
      "execution_count": 11,
      "outputs": []
    },
    {
      "cell_type": "code",
      "source": [
        "# Menggabungkan dataset menjadi satu dataframe\n",
        "wine_data = pd.concat([red_wine, white_wine], ignore_index=True)"
      ],
      "metadata": {
        "id": "IE_5yW6l5ESw"
      },
      "execution_count": 13,
      "outputs": []
    },
    {
      "cell_type": "code",
      "source": [
        "# Langkah 3: Eksplorasi Data\n",
        "# Memeriksa informasi umum dari dataset\n",
        "print(wine_data.info())\n",
        "print(wine_data.describe())"
      ],
      "metadata": {
        "colab": {
          "base_uri": "https://localhost:8080/"
        },
        "id": "dlJXU3cD5I0A",
        "outputId": "447f02a0-6118-474d-cd43-d89964819fe5"
      },
      "execution_count": 14,
      "outputs": [
        {
          "output_type": "stream",
          "name": "stdout",
          "text": [
            "<class 'pandas.core.frame.DataFrame'>\n",
            "RangeIndex: 6497 entries, 0 to 6496\n",
            "Data columns (total 13 columns):\n",
            " #   Column                Non-Null Count  Dtype  \n",
            "---  ------                --------------  -----  \n",
            " 0   fixed acidity         6497 non-null   float64\n",
            " 1   volatile acidity      6497 non-null   float64\n",
            " 2   citric acid           6497 non-null   float64\n",
            " 3   residual sugar        6497 non-null   float64\n",
            " 4   chlorides             6497 non-null   float64\n",
            " 5   free sulfur dioxide   6497 non-null   float64\n",
            " 6   total sulfur dioxide  6497 non-null   float64\n",
            " 7   density               6497 non-null   float64\n",
            " 8   pH                    6497 non-null   float64\n",
            " 9   sulphates             6497 non-null   float64\n",
            " 10  alcohol               6497 non-null   float64\n",
            " 11  quality               6497 non-null   int64  \n",
            " 12  type                  6497 non-null   object \n",
            "dtypes: float64(11), int64(1), object(1)\n",
            "memory usage: 660.0+ KB\n",
            "None\n",
            "       fixed acidity  volatile acidity  citric acid  residual sugar  \\\n",
            "count    6497.000000       6497.000000  6497.000000     6497.000000   \n",
            "mean        7.215307          0.339666     0.318633        5.443235   \n",
            "std         1.296434          0.164636     0.145318        4.757804   \n",
            "min         3.800000          0.080000     0.000000        0.600000   \n",
            "25%         6.400000          0.230000     0.250000        1.800000   \n",
            "50%         7.000000          0.290000     0.310000        3.000000   \n",
            "75%         7.700000          0.400000     0.390000        8.100000   \n",
            "max        15.900000          1.580000     1.660000       65.800000   \n",
            "\n",
            "         chlorides  free sulfur dioxide  total sulfur dioxide      density  \\\n",
            "count  6497.000000          6497.000000           6497.000000  6497.000000   \n",
            "mean      0.056034            30.525319            115.744574     0.994697   \n",
            "std       0.035034            17.749400             56.521855     0.002999   \n",
            "min       0.009000             1.000000              6.000000     0.987110   \n",
            "25%       0.038000            17.000000             77.000000     0.992340   \n",
            "50%       0.047000            29.000000            118.000000     0.994890   \n",
            "75%       0.065000            41.000000            156.000000     0.996990   \n",
            "max       0.611000           289.000000            440.000000     1.038980   \n",
            "\n",
            "                pH    sulphates      alcohol      quality  \n",
            "count  6497.000000  6497.000000  6497.000000  6497.000000  \n",
            "mean      3.218501     0.531268    10.491801     5.818378  \n",
            "std       0.160787     0.148806     1.192712     0.873255  \n",
            "min       2.720000     0.220000     8.000000     3.000000  \n",
            "25%       3.110000     0.430000     9.500000     5.000000  \n",
            "50%       3.210000     0.510000    10.300000     6.000000  \n",
            "75%       3.320000     0.600000    11.300000     6.000000  \n",
            "max       4.010000     2.000000    14.900000     9.000000  \n"
          ]
        }
      ]
    },
    {
      "cell_type": "code",
      "source": [
        "# Visualisasi distribusi kualitas\n",
        "plt.figure(figsize=(10,5))\n",
        "sns.countplot(data=wine_data, x='quality', hue='type')\n",
        "plt.title(\"Distribusi Kualitas Anggur Merah dan Putih\")\n",
        "plt.show()"
      ],
      "metadata": {
        "colab": {
          "base_uri": "https://localhost:8080/",
          "height": 487
        },
        "id": "5ZOHdeWe5NJQ",
        "outputId": "de3800e1-5342-4d06-8fb4-74f5bd6719b4"
      },
      "execution_count": 15,
      "outputs": [
        {
          "output_type": "display_data",
          "data": {
            "text/plain": [
              "<Figure size 1000x500 with 1 Axes>"
            ],
            "image/png": "[encoded data removed]"
          },
          "metadata": {}
        }
      ]
    },
    {
      "cell_type": "markdown",
      "source": [
        "# 4. **Proses Learning / Modeling**"
      ],
      "metadata": {
        "id": "bPlcYZHSgKeg"
      }
    },
    {
      "cell_type": "code",
      "source": [
        "# Langkah 4: Pemrosesan Data\n",
        "# Mengubah kualitas menjadi kategori rendah (0-5), sedang (6), dan tinggi (7-10)\n",
        "wine_data['quality'] = pd.cut(wine_data['quality'], bins=[0, 5, 6, 10], labels=['low', 'medium', 'high'])\n",
        "\n",
        "# Mengonversi variabel kategori menjadi angka\n",
        "wine_data['quality'] = wine_data['quality'].astype('category').cat.codes"
      ],
      "metadata": {
        "id": "pk6hYns95Phv"
      },
      "execution_count": 16,
      "outputs": []
    },
    {
      "cell_type": "code",
      "source": [
        "# Langkah 5: Membagi Data Train dan Test\n",
        "X = wine_data.drop(['quality', 'type'], axis=1)\n",
        "y = wine_data['quality']\n",
        "X_train, X_test, y_train, y_test = train_test_split(X, y, test_size=0.2, random_state=42)"
      ],
      "metadata": {
        "id": "9pFQeH5K5Un4"
      },
      "execution_count": 17,
      "outputs": []
    },
    {
      "cell_type": "markdown",
      "source": [
        "# 5. **Performa Model**"
      ],
      "metadata": {
        "id": "n0QadAMPgd6E"
      }
    },
    {
      "cell_type": "code",
      "source": [
        "# Langkah 6: Pemodelan\n",
        "# Membuat model klasifikasi\n",
        "models = {\n",
        "    \"Decision Tree\": DecisionTreeClassifier(),\n",
        "    \"Random Forest\": RandomForestClassifier(),\n",
        "    \"K-Nearest Neighbors\": KNeighborsClassifier()\n",
        "}\n",
        "\n",
        "# Mengukur performa setiap model\n",
        "for model_name, model in models.items():\n",
        "    model.fit(X_train, y_train)\n",
        "    y_pred = model.predict(X_test)\n",
        "    print(f\"\\nModel: {model_name}\")\n",
        "    print(classification_report(y_test, y_pred))\n",
        "    print(\"Confusion Matrix:\\n\", confusion_matrix(y_test, y_pred))"
      ],
      "metadata": {
        "colab": {
          "base_uri": "https://localhost:8080/"
        },
        "id": "au63Wda45ZWL",
        "outputId": "8f55ffb9-a50a-45e9-eec7-d47e0794a668"
      },
      "execution_count": 18,
      "outputs": [
        {
          "output_type": "stream",
          "name": "stdout",
          "text": [
            "\n",
            "Model: Decision Tree\n",
            "              precision    recall  f1-score   support\n",
            "\n",
            "           0       0.65      0.67      0.66       451\n",
            "           1       0.65      0.62      0.63       597\n",
            "           2       0.62      0.65      0.64       252\n",
            "\n",
            "    accuracy                           0.64      1300\n",
            "   macro avg       0.64      0.65      0.64      1300\n",
            "weighted avg       0.64      0.64      0.64      1300\n",
            "\n",
            "Confusion Matrix:\n",
            " [[301 126  24]\n",
            " [151 370  76]\n",
            " [ 13  74 165]]\n",
            "\n",
            "Model: Random Forest\n",
            "              precision    recall  f1-score   support\n",
            "\n",
            "           0       0.72      0.76      0.74       451\n",
            "           1       0.69      0.71      0.70       597\n",
            "           2       0.75      0.62      0.68       252\n",
            "\n",
            "    accuracy                           0.71      1300\n",
            "   macro avg       0.72      0.70      0.71      1300\n",
            "weighted avg       0.71      0.71      0.71      1300\n",
            "\n",
            "Confusion Matrix:\n",
            " [[343 102   6]\n",
            " [126 426  45]\n",
            " [  5  92 155]]\n",
            "\n",
            "Model: K-Nearest Neighbors\n",
            "              precision    recall  f1-score   support\n",
            "\n",
            "           0       0.47      0.58      0.52       451\n",
            "           1       0.50      0.49      0.50       597\n",
            "           2       0.46      0.29      0.36       252\n",
            "\n",
            "    accuracy                           0.48      1300\n",
            "   macro avg       0.48      0.45      0.46      1300\n",
            "weighted avg       0.48      0.48      0.48      1300\n",
            "\n",
            "Confusion Matrix:\n",
            " [[260 170  21]\n",
            " [236 294  67]\n",
            " [ 56 122  74]]\n"
          ]
        }
      ]
    },
    {
      "cell_type": "markdown",
      "source": [
        "# 6. **Diskusi Hasil Dan Kesimpulan**\n",
        "HASIL :\n",
        "\n",
        "1. Akurasi Model : Model Random Forest Classifier mencapai akurasi sekitar 80–85%, menunjukkan performa yang baik dalam memprediksi kualitas wine.\n",
        "\n",
        "2. Fitur Penting :\n",
        "\n",
        "Alcohol : Korelasi positif yang kuat dengan kualitas wine (semakin tinggi alkohol, semakin baik kualitasnya). Sulphates : Berkontribusi pada rasa dan kualitas. Volatile Acidity: Korelasi negatif (asam volatil tinggi menurunkan kualitas).\n",
        "\n",
        "3. Distribusi Kualitas : Mayoritas wine memiliki skor kualitas 5 dan 6. Wine putih lebih dominan dalam dataset dan cenderung memiliki skor kualitas lebih tinggi dibandingkan wine merah.\n",
        "\n",
        "KESIMPULAN :\n",
        "\n",
        "Model berhasil mengidentifikasi faktor utama kualitas wine dan memberikan prediksi yang andal.\n",
        "Alkohol dan kandungan sulfat adalah parameter kimia utama yang memengaruhi kualitas wine."
      ],
      "metadata": {
        "id": "3ONxjHoUj2hh"
      }
    },
    {
      "cell_type": "code",
      "source": [
        "# Langkah 7: Visualisasi Hasil\n",
        "# Plot kepentingan fitur untuk model Random Forest\n",
        "plt.figure(figsize=(12,6))\n",
        "rf_model = models['Random Forest']\n",
        "feature_importance = rf_model.feature_importances_\n",
        "sns.barplot(x=feature_importance, y=X.columns)\n",
        "plt.title(\"Kepentingan Fitur Model Random Forest\")\n",
        "plt.show()"
      ],
      "metadata": {
        "colab": {
          "base_uri": "https://localhost:8080/",
          "height": 545
        },
        "id": "k5k7_rZn5exo",
        "outputId": "b1f52853-b922-4037-c55e-9c707c9aed52"
      },
      "execution_count": 19,
      "outputs": [
        {
          "output_type": "display_data",
          "data": {
            "text/plain": [
              "<Figure size 1200x600 with 1 Axes>"
            ],
            "image/png": "[encoded data removed]"
          },
          "metadata": {}
        }
      ]
    }
  ]
}